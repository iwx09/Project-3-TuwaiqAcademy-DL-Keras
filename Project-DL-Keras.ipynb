{
  "nbformat": 4,
  "nbformat_minor": 0,
  "metadata": {
    "colab": {
      "provenance": [],
      "authorship_tag": "ABX9TyP5I3xTCd6v5a7qWW6Y3b/j",
      "include_colab_link": true
    },
    "kernelspec": {
      "name": "python3",
      "display_name": "Python 3"
    },
    "language_info": {
      "name": "python"
    }
  },
  "cells": [
    {
      "cell_type": "markdown",
      "metadata": {
        "id": "view-in-github",
        "colab_type": "text"
      },
      "source": [
        "<a href=\"https://colab.research.google.com/github/iwx09/Project-3-TuwaiqAcademy-DL-Keras/blob/main/Project-DL-Keras.ipynb\" target=\"_parent\"><img src=\"https://colab.research.google.com/assets/colab-badge.svg\" alt=\"Open In Colab\"/></a>"
      ]
    },
    {
      "cell_type": "code",
      "execution_count": null,
      "metadata": {
        "id": "AGdWeOhWhD2m"
      },
      "outputs": [],
      "source": [
        "from keras.models import Sequential\n",
        "from keras.layers import Dense\n",
        "from keras import utils\n",
        "import tensorflow as tf\n",
        "import numpy as np\n",
        "import matplotlib.pyplot as plt\n",
        "fashion_mnist = tf.keras.datasets.fashion_mnist\n",
        "(train_images, train_labels), (test_images, test_labels) = fashion_mnist.load_data()"
      ]
    },
    {
      "cell_type": "code",
      "source": [
        "(X_train, y_train), (X_test, y_test) = tf.keras.datasets.fashion_mnist.load_data()"
      ],
      "metadata": {
        "id": "dXygJ38nh8xP"
      },
      "execution_count": null,
      "outputs": []
    },
    {
      "cell_type": "code",
      "source": [
        "len(X_train)"
      ],
      "metadata": {
        "colab": {
          "base_uri": "https://localhost:8080/"
        },
        "id": "sustLyW7iTF0",
        "outputId": "610ad9bf-a47f-4c58-ac5f-b331653c54f7"
      },
      "execution_count": null,
      "outputs": [
        {
          "output_type": "execute_result",
          "data": {
            "text/plain": [
              "60000"
            ]
          },
          "metadata": {},
          "execution_count": 60
        }
      ]
    },
    {
      "cell_type": "code",
      "source": [
        "len(X_test)"
      ],
      "metadata": {
        "colab": {
          "base_uri": "https://localhost:8080/"
        },
        "id": "9dNaEbFDijme",
        "outputId": "92b2d5a9-bfa6-4665-e5bc-29f884686f85"
      },
      "execution_count": null,
      "outputs": [
        {
          "output_type": "execute_result",
          "data": {
            "text/plain": [
              "10000"
            ]
          },
          "metadata": {},
          "execution_count": 61
        }
      ]
    },
    {
      "cell_type": "code",
      "source": [
        "X_train.shape"
      ],
      "metadata": {
        "colab": {
          "base_uri": "https://localhost:8080/"
        },
        "id": "ihs32awEio8R",
        "outputId": "9427cf69-46db-4ea0-d16a-5b44c8e1ee97"
      },
      "execution_count": null,
      "outputs": [
        {
          "output_type": "execute_result",
          "data": {
            "text/plain": [
              "(60000, 28, 28)"
            ]
          },
          "metadata": {},
          "execution_count": 62
        }
      ]
    },
    {
      "cell_type": "code",
      "source": [
        "X_test.shape"
      ],
      "metadata": {
        "colab": {
          "base_uri": "https://localhost:8080/"
        },
        "id": "4-YGPHycirFy",
        "outputId": "d928c623-ff54-42e8-e6c3-4906aca0175c"
      },
      "execution_count": null,
      "outputs": [
        {
          "output_type": "execute_result",
          "data": {
            "text/plain": [
              "(10000, 28, 28)"
            ]
          },
          "metadata": {},
          "execution_count": 63
        }
      ]
    },
    {
      "cell_type": "code",
      "source": [
        "# Flattening the images from the 28x28 pixels to 1D 784 pixels\n",
        "X_train = X_train.reshape(60000, 784)\n",
        "X_test = X_test.reshape(10000, 784)"
      ],
      "metadata": {
        "id": "Hy2NrK4oiuY5"
      },
      "execution_count": null,
      "outputs": []
    },
    {
      "cell_type": "code",
      "source": [
        "X_train.shape"
      ],
      "metadata": {
        "colab": {
          "base_uri": "https://localhost:8080/"
        },
        "id": "v-2P7mQNi4EQ",
        "outputId": "87499529-11c7-4c61-d24e-04716249eb81"
      },
      "execution_count": null,
      "outputs": [
        {
          "output_type": "execute_result",
          "data": {
            "text/plain": [
              "(60000, 784)"
            ]
          },
          "metadata": {},
          "execution_count": 65
        }
      ]
    },
    {
      "cell_type": "code",
      "source": [
        "X_test.shape"
      ],
      "metadata": {
        "colab": {
          "base_uri": "https://localhost:8080/"
        },
        "id": "Bze_7Ut2i6jy",
        "outputId": "17d8791d-c02b-4f9b-a891-e65e199d7012"
      },
      "execution_count": null,
      "outputs": [
        {
          "output_type": "execute_result",
          "data": {
            "text/plain": [
              "(10000, 784)"
            ]
          },
          "metadata": {},
          "execution_count": 66
        }
      ]
    },
    {
      "cell_type": "code",
      "source": [
        "X_train"
      ],
      "metadata": {
        "colab": {
          "base_uri": "https://localhost:8080/"
        },
        "id": "CaAB-OQNi8tH",
        "outputId": "c9bdced0-f488-419e-fb4e-4869d05549f7"
      },
      "execution_count": null,
      "outputs": [
        {
          "output_type": "execute_result",
          "data": {
            "text/plain": [
              "array([[0, 0, 0, ..., 0, 0, 0],\n",
              "       [0, 0, 0, ..., 0, 0, 0],\n",
              "       [0, 0, 0, ..., 0, 0, 0],\n",
              "       ...,\n",
              "       [0, 0, 0, ..., 0, 0, 0],\n",
              "       [0, 0, 0, ..., 0, 0, 0],\n",
              "       [0, 0, 0, ..., 0, 0, 0]], dtype=uint8)"
            ]
          },
          "metadata": {},
          "execution_count": 67
        }
      ]
    },
    {
      "cell_type": "code",
      "source": [
        "X_train = X_train.astype('float32')\n",
        "X_test = X_test.astype('float32')"
      ],
      "metadata": {
        "id": "peVAhEFdi_r2"
      },
      "execution_count": null,
      "outputs": []
    },
    {
      "cell_type": "code",
      "source": [
        "# normalizing the data to help with the training\n",
        "X_train /= 255\n",
        "X_test /= 255"
      ],
      "metadata": {
        "id": "QrIwErxKjDd-"
      },
      "execution_count": null,
      "outputs": []
    },
    {
      "cell_type": "code",
      "source": [
        "# one-hot encoding using keras' numpy-related utilities\n",
        "n_classes = 10\n",
        "Y_train = utils.to_categorical(y_train, n_classes)\n",
        "Y_test = utils.to_categorical(y_test, n_classes)"
      ],
      "metadata": {
        "id": "Pnw3r7dWjGLS"
      },
      "execution_count": null,
      "outputs": []
    },
    {
      "cell_type": "code",
      "source": [
        "print(\"Shape before one-hot encoding: \", y_train.shape)\n",
        "print(\"Shape after one-hot encoding: \", Y_train.shape)"
      ],
      "metadata": {
        "colab": {
          "base_uri": "https://localhost:8080/"
        },
        "id": "KxYtHpctjJMk",
        "outputId": "2535fd95-b433-4310-9528-ec8d5662222e"
      },
      "execution_count": null,
      "outputs": [
        {
          "output_type": "stream",
          "name": "stdout",
          "text": [
            "Shape before one-hot encoding:  (60000,)\n",
            "Shape after one-hot encoding:  (60000, 10)\n"
          ]
        }
      ]
    },
    {
      "cell_type": "code",
      "source": [
        "# building a linear stack of layers with the sequential model\n",
        "model = Sequential()\n",
        "\n",
        "# hidden layer\n",
        "model.add(Dense(100, input_shape=(784,), activation='relu'))\n",
        "\n",
        "# output layer\n",
        "model.add(Dense(10, activation='softmax'))"
      ],
      "metadata": {
        "id": "eFhY6mXzjLzJ"
      },
      "execution_count": null,
      "outputs": []
    },
    {
      "cell_type": "code",
      "source": [
        "# looking at the model summary\n",
        "model.summary()"
      ],
      "metadata": {
        "colab": {
          "base_uri": "https://localhost:8080/"
        },
        "id": "XvCB_v5_jPGm",
        "outputId": "ec458d6b-0630-45ee-95a9-8c53c177caca"
      },
      "execution_count": null,
      "outputs": [
        {
          "output_type": "stream",
          "name": "stdout",
          "text": [
            "Model: \"sequential_2\"\n",
            "_________________________________________________________________\n",
            " Layer (type)                Output Shape              Param #   \n",
            "=================================================================\n",
            " dense_4 (Dense)             (None, 100)               78500     \n",
            "                                                                 \n",
            " dense_5 (Dense)             (None, 10)                1010      \n",
            "                                                                 \n",
            "=================================================================\n",
            "Total params: 79510 (310.59 KB)\n",
            "Trainable params: 79510 (310.59 KB)\n",
            "Non-trainable params: 0 (0.00 Byte)\n",
            "_________________________________________________________________\n"
          ]
        }
      ]
    },
    {
      "cell_type": "code",
      "source": [
        "# compiling the sequential model\n",
        "model.compile(loss='categorical_crossentropy', metrics=['accuracy'], optimizer='adam')"
      ],
      "metadata": {
        "id": "ve6S2HGUjSee"
      },
      "execution_count": null,
      "outputs": []
    },
    {
      "cell_type": "code",
      "source": [
        "# training the model for 10 epochs\n",
        "model.fit(X_train, Y_train, batch_size=128, epochs=100, validation_data=(X_test, Y_test))"
      ],
      "metadata": {
        "colab": {
          "base_uri": "https://localhost:8080/"
        },
        "id": "HIu43tDPjXPS",
        "outputId": "85c403f4-5aff-4947-9c34-7833d6a02db0"
      },
      "execution_count": null,
      "outputs": [
        {
          "output_type": "stream",
          "name": "stdout",
          "text": [
            "Epoch 1/100\n",
            "469/469 [==============================] - 2s 4ms/step - loss: 0.0439 - accuracy: 0.9847 - val_loss: 0.6797 - val_accuracy: 0.8864\n",
            "Epoch 2/100\n",
            "469/469 [==============================] - 2s 3ms/step - loss: 0.0477 - accuracy: 0.9833 - val_loss: 0.6940 - val_accuracy: 0.8881\n",
            "Epoch 3/100\n",
            "469/469 [==============================] - 1s 3ms/step - loss: 0.0495 - accuracy: 0.9817 - val_loss: 0.6966 - val_accuracy: 0.8858\n",
            "Epoch 4/100\n",
            "469/469 [==============================] - 2s 3ms/step - loss: 0.0469 - accuracy: 0.9834 - val_loss: 0.7117 - val_accuracy: 0.8858\n",
            "Epoch 5/100\n",
            "469/469 [==============================] - 2s 3ms/step - loss: 0.0424 - accuracy: 0.9853 - val_loss: 0.6959 - val_accuracy: 0.8854\n",
            "Epoch 6/100\n",
            "469/469 [==============================] - 2s 3ms/step - loss: 0.0427 - accuracy: 0.9849 - val_loss: 0.7140 - val_accuracy: 0.8817\n",
            "Epoch 7/100\n",
            "469/469 [==============================] - 2s 4ms/step - loss: 0.0488 - accuracy: 0.9825 - val_loss: 0.7293 - val_accuracy: 0.8822\n",
            "Epoch 8/100\n",
            "469/469 [==============================] - 2s 5ms/step - loss: 0.0423 - accuracy: 0.9851 - val_loss: 0.7443 - val_accuracy: 0.8818\n",
            "Epoch 9/100\n",
            "469/469 [==============================] - 2s 3ms/step - loss: 0.0429 - accuracy: 0.9845 - val_loss: 0.7347 - val_accuracy: 0.8854\n",
            "Epoch 10/100\n",
            "469/469 [==============================] - 2s 3ms/step - loss: 0.0424 - accuracy: 0.9850 - val_loss: 0.7338 - val_accuracy: 0.8867\n",
            "Epoch 11/100\n",
            "469/469 [==============================] - 1s 3ms/step - loss: 0.0398 - accuracy: 0.9862 - val_loss: 0.7114 - val_accuracy: 0.8851\n",
            "Epoch 12/100\n",
            "469/469 [==============================] - 2s 3ms/step - loss: 0.0422 - accuracy: 0.9847 - val_loss: 0.7281 - val_accuracy: 0.8821\n",
            "Epoch 13/100\n",
            "469/469 [==============================] - 1s 3ms/step - loss: 0.0449 - accuracy: 0.9839 - val_loss: 0.7224 - val_accuracy: 0.8859\n",
            "Epoch 14/100\n",
            "469/469 [==============================] - 2s 3ms/step - loss: 0.0355 - accuracy: 0.9880 - val_loss: 0.7526 - val_accuracy: 0.8832\n",
            "Epoch 15/100\n",
            "469/469 [==============================] - 2s 5ms/step - loss: 0.0406 - accuracy: 0.9857 - val_loss: 0.7311 - val_accuracy: 0.8832\n",
            "Epoch 16/100\n",
            "469/469 [==============================] - 2s 4ms/step - loss: 0.0437 - accuracy: 0.9842 - val_loss: 0.7562 - val_accuracy: 0.8812\n",
            "Epoch 17/100\n",
            "469/469 [==============================] - 1s 3ms/step - loss: 0.0385 - accuracy: 0.9862 - val_loss: 0.7736 - val_accuracy: 0.8791\n",
            "Epoch 18/100\n",
            "469/469 [==============================] - 2s 4ms/step - loss: 0.0415 - accuracy: 0.9850 - val_loss: 0.8038 - val_accuracy: 0.8862\n",
            "Epoch 19/100\n",
            "469/469 [==============================] - 2s 4ms/step - loss: 0.0408 - accuracy: 0.9850 - val_loss: 0.7801 - val_accuracy: 0.8778\n",
            "Epoch 20/100\n",
            "469/469 [==============================] - 2s 3ms/step - loss: 0.0368 - accuracy: 0.9867 - val_loss: 0.7963 - val_accuracy: 0.8807\n",
            "Epoch 21/100\n",
            "469/469 [==============================] - 1s 3ms/step - loss: 0.0383 - accuracy: 0.9868 - val_loss: 0.7468 - val_accuracy: 0.8872\n",
            "Epoch 22/100\n",
            "469/469 [==============================] - 2s 4ms/step - loss: 0.0380 - accuracy: 0.9867 - val_loss: 0.7810 - val_accuracy: 0.8859\n",
            "Epoch 23/100\n",
            "469/469 [==============================] - 2s 4ms/step - loss: 0.0384 - accuracy: 0.9862 - val_loss: 0.7841 - val_accuracy: 0.8835\n",
            "Epoch 24/100\n",
            "469/469 [==============================] - 2s 3ms/step - loss: 0.0324 - accuracy: 0.9886 - val_loss: 0.7905 - val_accuracy: 0.8830\n",
            "Epoch 25/100\n",
            "469/469 [==============================] - 2s 3ms/step - loss: 0.0392 - accuracy: 0.9862 - val_loss: 0.7803 - val_accuracy: 0.8821\n",
            "Epoch 26/100\n",
            "469/469 [==============================] - 2s 3ms/step - loss: 0.0370 - accuracy: 0.9870 - val_loss: 0.7906 - val_accuracy: 0.8854\n",
            "Epoch 27/100\n",
            "469/469 [==============================] - 2s 4ms/step - loss: 0.0371 - accuracy: 0.9868 - val_loss: 0.7857 - val_accuracy: 0.8852\n",
            "Epoch 28/100\n",
            "469/469 [==============================] - 2s 5ms/step - loss: 0.0359 - accuracy: 0.9878 - val_loss: 0.7893 - val_accuracy: 0.8834\n",
            "Epoch 29/100\n",
            "469/469 [==============================] - 2s 5ms/step - loss: 0.0314 - accuracy: 0.9890 - val_loss: 0.8119 - val_accuracy: 0.8798\n",
            "Epoch 30/100\n",
            "469/469 [==============================] - 2s 4ms/step - loss: 0.0335 - accuracy: 0.9882 - val_loss: 0.8184 - val_accuracy: 0.8811\n",
            "Epoch 31/100\n",
            "469/469 [==============================] - 2s 3ms/step - loss: 0.0352 - accuracy: 0.9877 - val_loss: 0.8334 - val_accuracy: 0.8802\n",
            "Epoch 32/100\n",
            "469/469 [==============================] - 2s 3ms/step - loss: 0.0419 - accuracy: 0.9848 - val_loss: 0.8119 - val_accuracy: 0.8838\n",
            "Epoch 33/100\n",
            "469/469 [==============================] - 2s 3ms/step - loss: 0.0360 - accuracy: 0.9876 - val_loss: 0.8254 - val_accuracy: 0.8800\n",
            "Epoch 34/100\n",
            "469/469 [==============================] - 2s 3ms/step - loss: 0.0300 - accuracy: 0.9899 - val_loss: 0.8073 - val_accuracy: 0.8829\n",
            "Epoch 35/100\n",
            "469/469 [==============================] - 2s 4ms/step - loss: 0.0347 - accuracy: 0.9879 - val_loss: 0.8018 - val_accuracy: 0.8844\n",
            "Epoch 36/100\n",
            "469/469 [==============================] - 2s 5ms/step - loss: 0.0310 - accuracy: 0.9894 - val_loss: 0.8051 - val_accuracy: 0.8855\n",
            "Epoch 37/100\n",
            "469/469 [==============================] - 2s 4ms/step - loss: 0.0304 - accuracy: 0.9895 - val_loss: 0.8453 - val_accuracy: 0.8832\n",
            "Epoch 38/100\n",
            "469/469 [==============================] - 2s 3ms/step - loss: 0.0364 - accuracy: 0.9866 - val_loss: 0.8316 - val_accuracy: 0.8808\n",
            "Epoch 39/100\n",
            "469/469 [==============================] - 2s 4ms/step - loss: 0.0343 - accuracy: 0.9876 - val_loss: 0.8424 - val_accuracy: 0.8851\n",
            "Epoch 40/100\n",
            "469/469 [==============================] - 2s 4ms/step - loss: 0.0317 - accuracy: 0.9889 - val_loss: 0.8224 - val_accuracy: 0.8838\n",
            "Epoch 41/100\n",
            "469/469 [==============================] - 2s 3ms/step - loss: 0.0344 - accuracy: 0.9880 - val_loss: 0.8716 - val_accuracy: 0.8811\n",
            "Epoch 42/100\n",
            "469/469 [==============================] - 2s 3ms/step - loss: 0.0354 - accuracy: 0.9880 - val_loss: 0.8519 - val_accuracy: 0.8832\n",
            "Epoch 43/100\n",
            "469/469 [==============================] - 2s 5ms/step - loss: 0.0268 - accuracy: 0.9905 - val_loss: 0.8533 - val_accuracy: 0.8807\n",
            "Epoch 44/100\n",
            "469/469 [==============================] - 2s 4ms/step - loss: 0.0302 - accuracy: 0.9892 - val_loss: 0.8589 - val_accuracy: 0.8845\n",
            "Epoch 45/100\n",
            "469/469 [==============================] - 2s 3ms/step - loss: 0.0271 - accuracy: 0.9904 - val_loss: 0.8602 - val_accuracy: 0.8864\n",
            "Epoch 46/100\n",
            "469/469 [==============================] - 2s 3ms/step - loss: 0.0347 - accuracy: 0.9872 - val_loss: 0.8653 - val_accuracy: 0.8838\n",
            "Epoch 47/100\n",
            "469/469 [==============================] - 2s 3ms/step - loss: 0.0272 - accuracy: 0.9907 - val_loss: 0.8926 - val_accuracy: 0.8856\n",
            "Epoch 48/100\n",
            "469/469 [==============================] - 2s 4ms/step - loss: 0.0325 - accuracy: 0.9884 - val_loss: 0.8723 - val_accuracy: 0.8805\n",
            "Epoch 49/100\n",
            "469/469 [==============================] - 2s 4ms/step - loss: 0.0298 - accuracy: 0.9897 - val_loss: 0.8819 - val_accuracy: 0.8853\n",
            "Epoch 50/100\n",
            "469/469 [==============================] - 2s 5ms/step - loss: 0.0271 - accuracy: 0.9904 - val_loss: 0.8886 - val_accuracy: 0.8802\n",
            "Epoch 51/100\n",
            "469/469 [==============================] - 2s 4ms/step - loss: 0.0284 - accuracy: 0.9896 - val_loss: 0.8684 - val_accuracy: 0.8830\n",
            "Epoch 52/100\n",
            "469/469 [==============================] - 2s 4ms/step - loss: 0.0309 - accuracy: 0.9889 - val_loss: 0.9144 - val_accuracy: 0.8818\n",
            "Epoch 53/100\n",
            "469/469 [==============================] - 2s 4ms/step - loss: 0.0326 - accuracy: 0.9884 - val_loss: 0.9147 - val_accuracy: 0.8816\n",
            "Epoch 54/100\n",
            "469/469 [==============================] - 2s 3ms/step - loss: 0.0284 - accuracy: 0.9898 - val_loss: 0.8913 - val_accuracy: 0.8883\n",
            "Epoch 55/100\n",
            "469/469 [==============================] - 2s 3ms/step - loss: 0.0292 - accuracy: 0.9896 - val_loss: 0.8984 - val_accuracy: 0.8843\n",
            "Epoch 56/100\n",
            "469/469 [==============================] - 2s 3ms/step - loss: 0.0228 - accuracy: 0.9920 - val_loss: 0.8936 - val_accuracy: 0.8819\n",
            "Epoch 57/100\n",
            "469/469 [==============================] - 2s 5ms/step - loss: 0.0347 - accuracy: 0.9875 - val_loss: 0.9684 - val_accuracy: 0.8785\n",
            "Epoch 58/100\n",
            "469/469 [==============================] - 2s 5ms/step - loss: 0.0286 - accuracy: 0.9898 - val_loss: 0.9181 - val_accuracy: 0.8832\n",
            "Epoch 59/100\n",
            "469/469 [==============================] - 2s 4ms/step - loss: 0.0254 - accuracy: 0.9909 - val_loss: 0.9119 - val_accuracy: 0.8832\n",
            "Epoch 60/100\n",
            "469/469 [==============================] - 2s 3ms/step - loss: 0.0271 - accuracy: 0.9904 - val_loss: 0.9275 - val_accuracy: 0.8818\n",
            "Epoch 61/100\n",
            "469/469 [==============================] - 2s 4ms/step - loss: 0.0264 - accuracy: 0.9906 - val_loss: 0.9279 - val_accuracy: 0.8831\n",
            "Epoch 62/100\n",
            "469/469 [==============================] - 2s 4ms/step - loss: 0.0224 - accuracy: 0.9924 - val_loss: 0.9362 - val_accuracy: 0.8827\n",
            "Epoch 63/100\n",
            "469/469 [==============================] - 2s 3ms/step - loss: 0.0351 - accuracy: 0.9880 - val_loss: 0.9269 - val_accuracy: 0.8823\n",
            "Epoch 64/100\n",
            "469/469 [==============================] - 3s 6ms/step - loss: 0.0288 - accuracy: 0.9894 - val_loss: 0.9131 - val_accuracy: 0.8861\n",
            "Epoch 65/100\n",
            "469/469 [==============================] - 2s 4ms/step - loss: 0.0202 - accuracy: 0.9932 - val_loss: 0.9123 - val_accuracy: 0.8815\n",
            "Epoch 66/100\n",
            "469/469 [==============================] - 2s 4ms/step - loss: 0.0276 - accuracy: 0.9902 - val_loss: 0.9225 - val_accuracy: 0.8817\n",
            "Epoch 67/100\n",
            "469/469 [==============================] - 2s 3ms/step - loss: 0.0234 - accuracy: 0.9920 - val_loss: 0.9879 - val_accuracy: 0.8769\n",
            "Epoch 68/100\n",
            "469/469 [==============================] - 2s 3ms/step - loss: 0.0325 - accuracy: 0.9887 - val_loss: 0.9241 - val_accuracy: 0.8820\n",
            "Epoch 69/100\n",
            "469/469 [==============================] - 2s 3ms/step - loss: 0.0282 - accuracy: 0.9901 - val_loss: 0.9575 - val_accuracy: 0.8795\n",
            "Epoch 70/100\n",
            "469/469 [==============================] - 2s 4ms/step - loss: 0.0233 - accuracy: 0.9918 - val_loss: 0.9737 - val_accuracy: 0.8824\n",
            "Epoch 71/100\n",
            "469/469 [==============================] - 3s 6ms/step - loss: 0.0248 - accuracy: 0.9913 - val_loss: 0.9314 - val_accuracy: 0.8853\n",
            "Epoch 72/100\n",
            "469/469 [==============================] - 2s 4ms/step - loss: 0.0247 - accuracy: 0.9909 - val_loss: 0.9836 - val_accuracy: 0.8783\n",
            "Epoch 73/100\n",
            "469/469 [==============================] - 2s 4ms/step - loss: 0.0208 - accuracy: 0.9925 - val_loss: 0.9499 - val_accuracy: 0.8837\n",
            "Epoch 74/100\n",
            "469/469 [==============================] - 2s 4ms/step - loss: 0.0303 - accuracy: 0.9889 - val_loss: 0.9593 - val_accuracy: 0.8820\n",
            "Epoch 75/100\n",
            "469/469 [==============================] - 2s 4ms/step - loss: 0.0232 - accuracy: 0.9916 - val_loss: 0.9520 - val_accuracy: 0.8846\n",
            "Epoch 76/100\n",
            "469/469 [==============================] - 2s 3ms/step - loss: 0.0228 - accuracy: 0.9920 - val_loss: 0.9637 - val_accuracy: 0.8803\n",
            "Epoch 77/100\n",
            "469/469 [==============================] - 2s 4ms/step - loss: 0.0231 - accuracy: 0.9916 - val_loss: 0.9993 - val_accuracy: 0.8813\n",
            "Epoch 78/100\n",
            "469/469 [==============================] - 2s 5ms/step - loss: 0.0256 - accuracy: 0.9906 - val_loss: 1.0304 - val_accuracy: 0.8798\n",
            "Epoch 79/100\n",
            "469/469 [==============================] - 2s 3ms/step - loss: 0.0252 - accuracy: 0.9912 - val_loss: 0.9675 - val_accuracy: 0.8802\n",
            "Epoch 80/100\n",
            "469/469 [==============================] - 2s 3ms/step - loss: 0.0244 - accuracy: 0.9914 - val_loss: 0.9629 - val_accuracy: 0.8817\n",
            "Epoch 81/100\n",
            "469/469 [==============================] - 2s 4ms/step - loss: 0.0201 - accuracy: 0.9930 - val_loss: 1.0058 - val_accuracy: 0.8810\n",
            "Epoch 82/100\n",
            "469/469 [==============================] - 2s 3ms/step - loss: 0.0260 - accuracy: 0.9911 - val_loss: 0.9996 - val_accuracy: 0.8784\n",
            "Epoch 83/100\n",
            "469/469 [==============================] - 2s 3ms/step - loss: 0.0251 - accuracy: 0.9908 - val_loss: 0.9663 - val_accuracy: 0.8846\n",
            "Epoch 84/100\n",
            "469/469 [==============================] - 2s 4ms/step - loss: 0.0256 - accuracy: 0.9909 - val_loss: 0.9767 - val_accuracy: 0.8867\n",
            "Epoch 85/100\n",
            "469/469 [==============================] - 3s 6ms/step - loss: 0.0227 - accuracy: 0.9918 - val_loss: 1.0028 - val_accuracy: 0.8814\n",
            "Epoch 86/100\n",
            "469/469 [==============================] - 2s 4ms/step - loss: 0.0245 - accuracy: 0.9907 - val_loss: 1.0050 - val_accuracy: 0.8837\n",
            "Epoch 87/100\n",
            "469/469 [==============================] - 2s 3ms/step - loss: 0.0266 - accuracy: 0.9906 - val_loss: 1.0002 - val_accuracy: 0.8838\n",
            "Epoch 88/100\n",
            "469/469 [==============================] - 2s 3ms/step - loss: 0.0210 - accuracy: 0.9926 - val_loss: 1.0134 - val_accuracy: 0.8809\n",
            "Epoch 89/100\n",
            "469/469 [==============================] - 2s 3ms/step - loss: 0.0275 - accuracy: 0.9900 - val_loss: 1.0010 - val_accuracy: 0.8827\n",
            "Epoch 90/100\n",
            "469/469 [==============================] - 2s 3ms/step - loss: 0.0172 - accuracy: 0.9945 - val_loss: 1.0697 - val_accuracy: 0.8806\n",
            "Epoch 91/100\n",
            "469/469 [==============================] - 2s 4ms/step - loss: 0.0312 - accuracy: 0.9894 - val_loss: 1.0194 - val_accuracy: 0.8819\n",
            "Epoch 92/100\n",
            "469/469 [==============================] - 3s 5ms/step - loss: 0.0235 - accuracy: 0.9921 - val_loss: 1.0160 - val_accuracy: 0.8831\n",
            "Epoch 93/100\n",
            "469/469 [==============================] - 2s 4ms/step - loss: 0.0228 - accuracy: 0.9917 - val_loss: 1.0300 - val_accuracy: 0.8822\n",
            "Epoch 94/100\n",
            "469/469 [==============================] - 2s 3ms/step - loss: 0.0199 - accuracy: 0.9931 - val_loss: 1.0554 - val_accuracy: 0.8811\n",
            "Epoch 95/100\n",
            "469/469 [==============================] - 2s 3ms/step - loss: 0.0223 - accuracy: 0.9919 - val_loss: 1.0194 - val_accuracy: 0.8853\n",
            "Epoch 96/100\n",
            "469/469 [==============================] - 2s 3ms/step - loss: 0.0172 - accuracy: 0.9944 - val_loss: 1.0201 - val_accuracy: 0.8801\n",
            "Epoch 97/100\n",
            "469/469 [==============================] - 2s 3ms/step - loss: 0.0205 - accuracy: 0.9926 - val_loss: 1.0539 - val_accuracy: 0.8794\n",
            "Epoch 98/100\n",
            "469/469 [==============================] - 2s 3ms/step - loss: 0.0247 - accuracy: 0.9915 - val_loss: 1.0398 - val_accuracy: 0.8821\n",
            "Epoch 99/100\n",
            "469/469 [==============================] - 3s 6ms/step - loss: 0.0235 - accuracy: 0.9913 - val_loss: 1.0797 - val_accuracy: 0.8786\n",
            "Epoch 100/100\n",
            "469/469 [==============================] - 2s 4ms/step - loss: 0.0214 - accuracy: 0.9929 - val_loss: 1.0171 - val_accuracy: 0.8867\n"
          ]
        },
        {
          "output_type": "execute_result",
          "data": {
            "text/plain": [
              "<keras.src.callbacks.History at 0x7cf580c44e80>"
            ]
          },
          "metadata": {},
          "execution_count": 85
        }
      ]
    },
    {
      "cell_type": "code",
      "source": [
        "pre = model.predict(X_test[1:2])"
      ],
      "metadata": {
        "colab": {
          "base_uri": "https://localhost:8080/"
        },
        "id": "TPF_fAUZjZgW",
        "outputId": "1d979bab-9536-410b-a3bd-088b296cd4ce"
      },
      "execution_count": null,
      "outputs": [
        {
          "output_type": "stream",
          "name": "stdout",
          "text": [
            "1/1 [==============================] - 0s 20ms/step\n"
          ]
        }
      ]
    },
    {
      "cell_type": "code",
      "source": [
        "pre"
      ],
      "metadata": {
        "colab": {
          "base_uri": "https://localhost:8080/"
        },
        "id": "CFWLpOqgjfmZ",
        "outputId": "98afc8de-1da6-4e1e-8c2b-c730cc52a742"
      },
      "execution_count": null,
      "outputs": [
        {
          "output_type": "execute_result",
          "data": {
            "text/plain": [
              "array([[2.1339024e-10, 0.0000000e+00, 1.0000000e+00, 1.3482723e-38,\n",
              "        3.3773092e-11, 0.0000000e+00, 1.4339749e-16, 0.0000000e+00,\n",
              "        0.0000000e+00, 0.0000000e+00]], dtype=float32)"
            ]
          },
          "metadata": {},
          "execution_count": 87
        }
      ]
    },
    {
      "cell_type": "code",
      "source": [
        "max_index = np.argmax(pre, axis=1)"
      ],
      "metadata": {
        "id": "W3T5HuZZjh4o"
      },
      "execution_count": null,
      "outputs": []
    },
    {
      "cell_type": "code",
      "source": [
        "max_index"
      ],
      "metadata": {
        "colab": {
          "base_uri": "https://localhost:8080/"
        },
        "id": "5LI17OfqjlN3",
        "outputId": "3c615bf7-bc46-45e8-e1b5-0762c54274e1"
      },
      "execution_count": null,
      "outputs": [
        {
          "output_type": "execute_result",
          "data": {
            "text/plain": [
              "array([2])"
            ]
          },
          "metadata": {},
          "execution_count": 89
        }
      ]
    },
    {
      "cell_type": "code",
      "source": [
        "plt.imshow(X_test[1:2].reshape((28,28)),cmap=\"gray\")\n",
        "plt.show()"
      ],
      "metadata": {
        "colab": {
          "base_uri": "https://localhost:8080/",
          "height": 430
        },
        "id": "vHjjq03-jncy",
        "outputId": "122fd46a-7b15-49b0-8e8c-b25b34d20dd4"
      },
      "execution_count": null,
      "outputs": [
        {
          "output_type": "display_data",
          "data": {
            "text/plain": [
              "<Figure size 640x480 with 1 Axes>"
            ],
            "image/png": "[encoded data removed]"
          },
          "metadata": {}
        }
      ]
    },
    {
      "cell_type": "code",
      "source": [],
      "metadata": {
        "id": "MlmjZfuujplp"
      },
      "execution_count": null,
      "outputs": []
    }
  ]
}